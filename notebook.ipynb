{
 "cells": [
  {
   "cell_type": "code",
   "execution_count": 150,
   "metadata": {},
   "outputs": [],
   "source": [
    "import torch\n",
    "import torch.nn as nn\n",
    "import torch.nn.functional as F\n",
    "import numpy as np\n",
    "import pandas as pd\n",
    "import tqdm"
   ]
  },
  {
   "cell_type": "markdown",
   "metadata": {},
   "source": [
    "# Data\n",
    "First we load the data"
   ]
  },
  {
   "cell_type": "code",
   "execution_count": 114,
   "metadata": {},
   "outputs": [],
   "source": [
    "ratings_df = pd.read_csv(\"ml-25m/ratings.csv\")\n",
    "movies_df = pd.read_csv(\"ml-25m/movies.csv\")"
   ]
  },
  {
   "cell_type": "code",
   "execution_count": 115,
   "metadata": {},
   "outputs": [
    {
     "name": "stdout",
     "output_type": "stream",
     "text": [
      "<class 'pandas.core.frame.DataFrame'>\n",
      "RangeIndex: 25000095 entries, 0 to 25000094\n",
      "Data columns (total 4 columns):\n",
      " #   Column     Dtype  \n",
      "---  ------     -----  \n",
      " 0   userId     int64  \n",
      " 1   movieId    int64  \n",
      " 2   rating     float64\n",
      " 3   timestamp  int64  \n",
      "dtypes: float64(1), int64(3)\n",
      "memory usage: 762.9 MB\n"
     ]
    }
   ],
   "source": [
    "ratings_df.info()"
   ]
  },
  {
   "cell_type": "code",
   "execution_count": 116,
   "metadata": {},
   "outputs": [
    {
     "data": {
      "text/html": [
       "<div>\n",
       "<style scoped>\n",
       "    .dataframe tbody tr th:only-of-type {\n",
       "        vertical-align: middle;\n",
       "    }\n",
       "\n",
       "    .dataframe tbody tr th {\n",
       "        vertical-align: top;\n",
       "    }\n",
       "\n",
       "    .dataframe thead th {\n",
       "        text-align: right;\n",
       "    }\n",
       "</style>\n",
       "<table border=\"1\" class=\"dataframe\">\n",
       "  <thead>\n",
       "    <tr style=\"text-align: right;\">\n",
       "      <th></th>\n",
       "      <th>userId</th>\n",
       "      <th>movieId</th>\n",
       "      <th>rating</th>\n",
       "      <th>timestamp</th>\n",
       "    </tr>\n",
       "  </thead>\n",
       "  <tbody>\n",
       "    <tr>\n",
       "      <th>0</th>\n",
       "      <td>1</td>\n",
       "      <td>296</td>\n",
       "      <td>5.0</td>\n",
       "      <td>1147880044</td>\n",
       "    </tr>\n",
       "    <tr>\n",
       "      <th>1</th>\n",
       "      <td>1</td>\n",
       "      <td>306</td>\n",
       "      <td>3.5</td>\n",
       "      <td>1147868817</td>\n",
       "    </tr>\n",
       "    <tr>\n",
       "      <th>2</th>\n",
       "      <td>1</td>\n",
       "      <td>307</td>\n",
       "      <td>5.0</td>\n",
       "      <td>1147868828</td>\n",
       "    </tr>\n",
       "    <tr>\n",
       "      <th>3</th>\n",
       "      <td>1</td>\n",
       "      <td>665</td>\n",
       "      <td>5.0</td>\n",
       "      <td>1147878820</td>\n",
       "    </tr>\n",
       "    <tr>\n",
       "      <th>4</th>\n",
       "      <td>1</td>\n",
       "      <td>899</td>\n",
       "      <td>3.5</td>\n",
       "      <td>1147868510</td>\n",
       "    </tr>\n",
       "    <tr>\n",
       "      <th>5</th>\n",
       "      <td>1</td>\n",
       "      <td>1088</td>\n",
       "      <td>4.0</td>\n",
       "      <td>1147868495</td>\n",
       "    </tr>\n",
       "    <tr>\n",
       "      <th>6</th>\n",
       "      <td>1</td>\n",
       "      <td>1175</td>\n",
       "      <td>3.5</td>\n",
       "      <td>1147868826</td>\n",
       "    </tr>\n",
       "    <tr>\n",
       "      <th>7</th>\n",
       "      <td>1</td>\n",
       "      <td>1217</td>\n",
       "      <td>3.5</td>\n",
       "      <td>1147878326</td>\n",
       "    </tr>\n",
       "    <tr>\n",
       "      <th>8</th>\n",
       "      <td>1</td>\n",
       "      <td>1237</td>\n",
       "      <td>5.0</td>\n",
       "      <td>1147868839</td>\n",
       "    </tr>\n",
       "    <tr>\n",
       "      <th>9</th>\n",
       "      <td>1</td>\n",
       "      <td>1250</td>\n",
       "      <td>4.0</td>\n",
       "      <td>1147868414</td>\n",
       "    </tr>\n",
       "  </tbody>\n",
       "</table>\n",
       "</div>"
      ],
      "text/plain": [
       "   userId  movieId  rating   timestamp\n",
       "0       1      296     5.0  1147880044\n",
       "1       1      306     3.5  1147868817\n",
       "2       1      307     5.0  1147868828\n",
       "3       1      665     5.0  1147878820\n",
       "4       1      899     3.5  1147868510\n",
       "5       1     1088     4.0  1147868495\n",
       "6       1     1175     3.5  1147868826\n",
       "7       1     1217     3.5  1147878326\n",
       "8       1     1237     5.0  1147868839\n",
       "9       1     1250     4.0  1147868414"
      ]
     },
     "execution_count": 116,
     "metadata": {},
     "output_type": "execute_result"
    }
   ],
   "source": [
    "ratings_df.head(10)"
   ]
  },
  {
   "cell_type": "code",
   "execution_count": 117,
   "metadata": {},
   "outputs": [
    {
     "name": "stdout",
     "output_type": "stream",
     "text": [
      "<class 'pandas.core.frame.DataFrame'>\n",
      "RangeIndex: 62423 entries, 0 to 62422\n",
      "Data columns (total 3 columns):\n",
      " #   Column   Non-Null Count  Dtype \n",
      "---  ------   --------------  ----- \n",
      " 0   movieId  62423 non-null  int64 \n",
      " 1   title    62423 non-null  object\n",
      " 2   genres   62423 non-null  object\n",
      "dtypes: int64(1), object(2)\n",
      "memory usage: 1.4+ MB\n"
     ]
    }
   ],
   "source": [
    "movies_df.info()"
   ]
  },
  {
   "cell_type": "markdown",
   "metadata": {},
   "source": [
    "## Remove Movies without a genre"
   ]
  },
  {
   "cell_type": "code",
   "execution_count": 118,
   "metadata": {},
   "outputs": [],
   "source": [
    "nogenres_indexes = movies_df.index[movies_df['genres'] == '(no genres listed)'].tolist()\n",
    "movieId_todelete = movies_df.iloc[nogenres_indexes]['movieId'].to_numpy()\n",
    "ratings_df.drop(ratings_df[ratings_df['movieId'].isin(movieId_todelete)].index, inplace=True)\n",
    "ratings_df.reset_index(drop=True, inplace=True)"
   ]
  },
  {
   "cell_type": "code",
   "execution_count": 119,
   "metadata": {},
   "outputs": [
    {
     "data": {
      "text/plain": [
       "162541"
      ]
     },
     "execution_count": 119,
     "metadata": {},
     "output_type": "execute_result"
    }
   ],
   "source": [
    "user_ids = ratings_df[\"userId\"].unique()\n",
    "nb_user = len(user_ids)\n",
    "nb_user"
   ]
  },
  {
   "cell_type": "code",
   "execution_count": 120,
   "metadata": {},
   "outputs": [],
   "source": [
    "ratings_by_user_dict = dict(tuple(ratings_df.groupby('userId')))"
   ]
  },
  {
   "cell_type": "code",
   "execution_count": 168,
   "metadata": {},
   "outputs": [
    {
     "name": "stderr",
     "output_type": "stream",
     "text": [
      "100%|██████████| 162541/162541 [02:04<00:00, 1300.82it/s]\n",
      "C:\\Users\\ferdi\\anaconda3\\lib\\site-packages\\ipykernel_launcher.py:28: VisibleDeprecationWarning: Creating an ndarray from ragged nested sequences (which is a list-or-tuple of lists-or-tuples-or ndarrays with different lengths or shapes) is deprecated. If you meant to do this, you must specify 'dtype=object' when creating the ndarray\n"
     ]
    },
    {
     "data": {
      "text/plain": [
       "(102460,)"
      ]
     },
     "execution_count": 168,
     "metadata": {},
     "output_type": "execute_result"
    }
   ],
   "source": [
    "import math\n",
    "\n",
    "ratings_by_user = []\n",
    "for user_id in tqdm.tqdm(user_ids):\n",
    "    \n",
    "    ratings_of_user = ratings_by_user_dict[user_id]\n",
    "    ratings_of_user.sort_values(by=\"timestamp\", inplace=True, ignore_index=True)\n",
    "    \n",
    "    number_of_ratings = len(ratings_of_user)\n",
    "    ratings_of_user = ratings_of_user.to_numpy()\n",
    "    \n",
    "    # We only keep users with more than 50 ratings\n",
    "    if number_of_ratings >= 50:\n",
    "        \n",
    "        ## We crop to have 25 ratings/frame\n",
    "        if number_of_ratings % 25 != 0:\n",
    "            round_number = number_of_ratings % 25\n",
    "            ratings_of_user = ratings_of_user[:-round_number]\n",
    "            number_of_ratings = ratings_of_user.shape[0]\n",
    "        \n",
    "\n",
    "        dividing_size = number_of_ratings / 25\n",
    "        \n",
    "        user_frames = np.split(ratings_of_user, dividing_size)\n",
    "        \n",
    "        ratings_by_user.append(np.expand_dims(np.array(user_frames),axis=0))\n",
    "\n",
    "ratings_by_user = np.array(ratings_by_user)\n",
    "    \n",
    "ratings_by_user.shape"
   ]
  },
  {
   "cell_type": "code",
   "execution_count": 169,
   "metadata": {},
   "outputs": [
    {
     "data": {
      "text/plain": [
       "(2, 25, 4, 1)"
      ]
     },
     "execution_count": 169,
     "metadata": {},
     "output_type": "execute_result"
    }
   ],
   "source": [
    "ratings_by_user[0].shape"
   ]
  },
  {
   "cell_type": "code",
   "execution_count": 178,
   "metadata": {},
   "outputs": [],
   "source": [
    "in_height=ratings_by_user[0].shape[1]\n",
    "in_width=ratings_by_user[0].shape[2]"
   ]
  },
  {
   "cell_type": "code",
   "execution_count": 170,
   "metadata": {},
   "outputs": [],
   "source": [
    "np.save(\"user_frames_divided.npy\", ratings_by_user)"
   ]
  },
  {
   "cell_type": "markdown",
   "metadata": {},
   "source": [
    "# Model\n",
    "Convolutional Tensor-Train LSTM Recommendation Net  \n",
    "The model was inspired by Covolutional Click Prediction Model (CCPM)  \n",
    " We want to vase our recommendation on previous recommendation we made. We want to add the sequential information  \n",
    "Therefore, we replace the second convolution by a Convolutional Tensor Train LSTM"
   ]
  },
  {
   "cell_type": "code",
   "execution_count": 179,
   "metadata": {},
   "outputs": [],
   "source": [
    "from utils.convlstmnet import ConvLSTMNet\n",
    "from torch.nn import Conv2d, AdaptiveMaxPool2d, Linear, Tanh, ReLU, MaxPool2d, Flatten"
   ]
  },
  {
   "cell_type": "markdown",
   "metadata": {},
   "source": [
    "Hyperparameters for the CTLRN"
   ]
  },
  {
   "cell_type": "code",
   "execution_count": 237,
   "metadata": {},
   "outputs": [],
   "source": [
    "output_size=10 # Number of movies\n",
    "inputs_channels=1# To define ==> 2\n",
    "lstm_input_channels=3\n",
    "cell = \"convttlstm\"\n",
    "order = 3\n",
    "steps = 3\n",
    "rank = 8\n",
    "kernel_size = 5\n",
    "output_sigmoid = True"
   ]
  },
  {
   "cell_type": "code",
   "execution_count": 238,
   "metadata": {},
   "outputs": [],
   "source": [
    "padding_size_w=in_height//2\n",
    "padding_size_h=in_width//2"
   ]
  },
  {
   "cell_type": "code",
   "execution_count": 296,
   "metadata": {},
   "outputs": [],
   "source": [
    "ctln_model = ConvLSTMNet(\n",
    "        # input to the model\n",
    "        input_channels = lstm_input_channels, \n",
    "        # architecture of the model\n",
    "        layers_per_block = (3, 3, 3, 3), \n",
    "        hidden_channels = (32, 48, 48, 32), \n",
    "        skip_stride = 2,\n",
    "        # parameters of convolutional tensor-train layers\n",
    "        cell = cell, cell_params = {\"order\": order,\n",
    "        \"steps\": steps, \"rank\": rank},\n",
    "        # parameters of convolutional operations\n",
    "        kernel_size = kernel_size, bias = True,\n",
    "        # output function and output format\n",
    "        output_sigmoid = output_sigmoid)"
   ]
  },
  {
   "cell_type": "code",
   "execution_count": 327,
   "metadata": {},
   "outputs": [],
   "source": [
    "class CTLRNet(nn.Module):\n",
    "    def __init__(self, inputs_channels, output_size):\n",
    "        super(CTLRNet, self).__init__()\n",
    "        \n",
    "        self.inputs_channels = inputs_channels\n",
    "        self.output_size = output_size\n",
    "        \n",
    "        self.conv1 = Conv2d(in_channels=inputs_channels, out_channels=lstm_input_channels,\n",
    "                       padding=(padding_size_h,padding_size_h), kernel_size=(3,3))\n",
    "        self.pool1 = AdaptiveMaxPool2d(output_size=(in_height, in_width))\n",
    "        self.tanh = Tanh()\n",
    "        self.convttlstm = ctln_model\n",
    "        self.pool2 = MaxPool2d(2) # Padding ?\n",
    "        self.flatten = Flatten()\n",
    "        self.linear = Linear(in_features=72, out_features=output_size)\n",
    "        self.relu = ReLU()\n",
    "    \n",
    "    def forward(self, inputs):\n",
    "        x = self.conv1(inputs)\n",
    "        x = self.pool1(x)\n",
    "        x = self.tanh(x)\n",
    "        \n",
    "        ## To study exactly\n",
    "        ## uwu ?\n",
    "        x = torch.unsqueeze(x, dim=0)\n",
    "        x = self.convttlstm(x, input_frames = inputs.shape[1], future_frames = 1, output_frames = 1)\n",
    "        x = torch.squeeze(x, dim=0)\n",
    "        \n",
    "        x = self.pool2(x)\n",
    "        x = self.flatten(x)\n",
    "        x = self.linear(x)\n",
    "        y = self.relu(x)\n",
    "        return x\n",
    "        "
   ]
  },
  {
   "cell_type": "code",
   "execution_count": 329,
   "metadata": {},
   "outputs": [],
   "source": [
    "model = CTLRNet(inputs_channels, output_size)"
   ]
  },
  {
   "cell_type": "code",
   "execution_count": 330,
   "metadata": {},
   "outputs": [],
   "source": [
    "quick_test_data = torch.from_numpy(ratings_by_user[0]).permute([0,3,1,2])"
   ]
  },
  {
   "cell_type": "code",
   "execution_count": 331,
   "metadata": {},
   "outputs": [
    {
     "data": {
      "text/plain": [
       "torch.Size([1, 10])"
      ]
     },
     "execution_count": 331,
     "metadata": {},
     "output_type": "execute_result"
    }
   ],
   "source": [
    "model(quick_test_data.float()).shape"
   ]
  },
  {
   "cell_type": "markdown",
   "metadata": {},
   "source": [
    "## Data Split"
   ]
  },
  {
   "cell_type": "code",
   "execution_count": 334,
   "metadata": {},
   "outputs": [],
   "source": [
    "np.random.shuffle(ratings_by_user)\n",
    "\n",
    "data_samples = ratings_by_user.shape[0]\n",
    "\n",
    "train_size = math.ceil(data_samples * 0.70)\n",
    "test_size = data_samples - train_size\n",
    "\n",
    "train_data = ratings_by_user[train_size:]\n",
    "test_data = ratings_by_user[:test_size]"
   ]
  },
  {
   "cell_type": "code",
   "execution_count": null,
   "metadata": {},
   "outputs": [],
   "source": []
  }
 ],
 "metadata": {
  "kernelspec": {
   "display_name": "Python 3",
   "language": "python",
   "name": "python3"
  },
  "language_info": {
   "codemirror_mode": {
    "name": "ipython",
    "version": 3
   },
   "file_extension": ".py",
   "mimetype": "text/x-python",
   "name": "python",
   "nbconvert_exporter": "python",
   "pygments_lexer": "ipython3",
   "version": "3.7.6"
  }
 },
 "nbformat": 4,
 "nbformat_minor": 2
}
