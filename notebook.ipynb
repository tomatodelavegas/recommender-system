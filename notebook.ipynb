{
 "metadata": {
  "language_info": {
   "codemirror_mode": {
    "name": "ipython",
    "version": 3
   },
   "file_extension": ".py",
   "mimetype": "text/x-python",
   "name": "python",
   "nbconvert_exporter": "python",
   "pygments_lexer": "ipython3",
   "version": "3.8.1-final"
  },
  "orig_nbformat": 2,
  "kernelspec": {
   "name": "python3",
   "display_name": "Python 3",
   "language": "python"
  }
 },
 "nbformat": 4,
 "nbformat_minor": 2,
 "cells": [
  {
   "cell_type": "code",
   "execution_count": 1,
   "metadata": {},
   "outputs": [],
   "source": [
    "import torch\n",
    "import torch.nn as nn\n",
    "import torch.nn.functional as F\n",
    "import numpy as np\n",
    "import pandas as pd"
   ]
  },
  {
   "source": [
    "# Data"
   ],
   "cell_type": "markdown",
   "metadata": {}
  },
  {
   "cell_type": "code",
   "execution_count": 2,
   "metadata": {},
   "outputs": [],
   "source": [
    "ratings_df = pd.read_csv(\"ml-25m/ratings.csv\")\n",
    "movies_df = pd.read_csv(\"ml-25m/movies.csv\")"
   ]
  },
  {
   "cell_type": "code",
   "execution_count": 3,
   "metadata": {},
   "outputs": [
    {
     "output_type": "stream",
     "name": "stdout",
     "text": [
      "<class 'pandas.core.frame.DataFrame'>\nRangeIndex: 25000095 entries, 0 to 25000094\nData columns (total 4 columns):\n #   Column     Dtype  \n---  ------     -----  \n 0   userId     int64  \n 1   movieId    int64  \n 2   rating     float64\n 3   timestamp  int64  \ndtypes: float64(1), int64(3)\nmemory usage: 762.9 MB\n"
     ]
    }
   ],
   "source": [
    "ratings_df.info()"
   ]
  },
  {
   "cell_type": "code",
   "execution_count": 7,
   "metadata": {},
   "outputs": [
    {
     "output_type": "execute_result",
     "data": {
      "text/plain": [
       "   userId  movieId  rating   timestamp\n",
       "0       1      296     5.0  1147880044\n",
       "1       1      306     3.5  1147868817\n",
       "2       1      307     5.0  1147868828\n",
       "3       1      665     5.0  1147878820\n",
       "4       1      899     3.5  1147868510\n",
       "5       1     1088     4.0  1147868495\n",
       "6       1     1175     3.5  1147868826\n",
       "7       1     1217     3.5  1147878326\n",
       "8       1     1237     5.0  1147868839\n",
       "9       1     1250     4.0  1147868414"
      ],
      "text/html": "<div>\n<style scoped>\n    .dataframe tbody tr th:only-of-type {\n        vertical-align: middle;\n    }\n\n    .dataframe tbody tr th {\n        vertical-align: top;\n    }\n\n    .dataframe thead th {\n        text-align: right;\n    }\n</style>\n<table border=\"1\" class=\"dataframe\">\n  <thead>\n    <tr style=\"text-align: right;\">\n      <th></th>\n      <th>userId</th>\n      <th>movieId</th>\n      <th>rating</th>\n      <th>timestamp</th>\n    </tr>\n  </thead>\n  <tbody>\n    <tr>\n      <th>0</th>\n      <td>1</td>\n      <td>296</td>\n      <td>5.0</td>\n      <td>1147880044</td>\n    </tr>\n    <tr>\n      <th>1</th>\n      <td>1</td>\n      <td>306</td>\n      <td>3.5</td>\n      <td>1147868817</td>\n    </tr>\n    <tr>\n      <th>2</th>\n      <td>1</td>\n      <td>307</td>\n      <td>5.0</td>\n      <td>1147868828</td>\n    </tr>\n    <tr>\n      <th>3</th>\n      <td>1</td>\n      <td>665</td>\n      <td>5.0</td>\n      <td>1147878820</td>\n    </tr>\n    <tr>\n      <th>4</th>\n      <td>1</td>\n      <td>899</td>\n      <td>3.5</td>\n      <td>1147868510</td>\n    </tr>\n    <tr>\n      <th>5</th>\n      <td>1</td>\n      <td>1088</td>\n      <td>4.0</td>\n      <td>1147868495</td>\n    </tr>\n    <tr>\n      <th>6</th>\n      <td>1</td>\n      <td>1175</td>\n      <td>3.5</td>\n      <td>1147868826</td>\n    </tr>\n    <tr>\n      <th>7</th>\n      <td>1</td>\n      <td>1217</td>\n      <td>3.5</td>\n      <td>1147878326</td>\n    </tr>\n    <tr>\n      <th>8</th>\n      <td>1</td>\n      <td>1237</td>\n      <td>5.0</td>\n      <td>1147868839</td>\n    </tr>\n    <tr>\n      <th>9</th>\n      <td>1</td>\n      <td>1250</td>\n      <td>4.0</td>\n      <td>1147868414</td>\n    </tr>\n  </tbody>\n</table>\n</div>"
     },
     "metadata": {},
     "execution_count": 7
    }
   ],
   "source": [
    "ratings_df.head(10)"
   ]
  },
  {
   "cell_type": "code",
   "execution_count": 3,
   "metadata": {},
   "outputs": [
    {
     "output_type": "stream",
     "name": "stdout",
     "text": [
      "<class 'pandas.core.frame.DataFrame'>\nRangeIndex: 62423 entries, 0 to 62422\nData columns (total 3 columns):\n #   Column   Non-Null Count  Dtype \n---  ------   --------------  ----- \n 0   movieId  62423 non-null  int64 \n 1   title    62423 non-null  object\n 2   genres   62423 non-null  object\ndtypes: int64(1), object(2)\nmemory usage: 1.4+ MB\n"
     ]
    }
   ],
   "source": [
    "movies_df.info()"
   ]
  },
  {
   "source": [
    "Remove non-genres entries"
   ],
   "cell_type": "markdown",
   "metadata": {}
  },
  {
   "cell_type": "code",
   "execution_count": 4,
   "metadata": {},
   "outputs": [],
   "source": [
    "nogenres_indexes = movies_df.index[movies_df['genres'] == '(no genres listed)'].tolist()\n",
    "movieId_todelete = movies_df.iloc[nogenres_indexes]['movieId'].to_numpy()\n",
    "ratings_df.drop(ratings_df[ratings_df['movieId'].isin(movieId_todelete)].index, inplace=True)\n",
    "ratings_df.reset_index(drop=True, inplace=True)"
   ]
  },
  {
   "cell_type": "code",
   "execution_count": 12,
   "metadata": {},
   "outputs": [
    {
     "output_type": "stream",
     "name": "stdout",
     "text": [
      "<class 'pandas.core.frame.DataFrame'>\nRangeIndex: 24973468 entries, 0 to 24973467\nData columns (total 4 columns):\n #   Column     Dtype  \n---  ------     -----  \n 0   userId     int64  \n 1   movieId    int64  \n 2   rating     float64\n 3   timestamp  int64  \ndtypes: float64(1), int64(3)\nmemory usage: 762.1 MB\n"
     ]
    }
   ],
   "source": [
    "ratings_df.info()"
   ]
  },
  {
   "cell_type": "code",
   "execution_count": 14,
   "metadata": {},
   "outputs": [],
   "source": [
    "ratings_df.sort_values(by=\"timestamp\", inplace=True, ignore_index=True)"
   ]
  },
  {
   "cell_type": "code",
   "execution_count": 19,
   "metadata": {},
   "outputs": [
    {
     "output_type": "execute_result",
     "data": {
      "text/plain": [
       "   userId  movieId  rating  timestamp\n",
       "0    2262       21     3.0  789652009\n",
       "1    2262     1079     3.0  789652009\n",
       "2    2262       47     5.0  789652009\n",
       "3  109832       34     5.0  822873600\n",
       "4  109832       32     4.0  822873600"
      ],
      "text/html": "<div>\n<style scoped>\n    .dataframe tbody tr th:only-of-type {\n        vertical-align: middle;\n    }\n\n    .dataframe tbody tr th {\n        vertical-align: top;\n    }\n\n    .dataframe thead th {\n        text-align: right;\n    }\n</style>\n<table border=\"1\" class=\"dataframe\">\n  <thead>\n    <tr style=\"text-align: right;\">\n      <th></th>\n      <th>userId</th>\n      <th>movieId</th>\n      <th>rating</th>\n      <th>timestamp</th>\n    </tr>\n  </thead>\n  <tbody>\n    <tr>\n      <th>0</th>\n      <td>2262</td>\n      <td>21</td>\n      <td>3.0</td>\n      <td>789652009</td>\n    </tr>\n    <tr>\n      <th>1</th>\n      <td>2262</td>\n      <td>1079</td>\n      <td>3.0</td>\n      <td>789652009</td>\n    </tr>\n    <tr>\n      <th>2</th>\n      <td>2262</td>\n      <td>47</td>\n      <td>5.0</td>\n      <td>789652009</td>\n    </tr>\n    <tr>\n      <th>3</th>\n      <td>109832</td>\n      <td>34</td>\n      <td>5.0</td>\n      <td>822873600</td>\n    </tr>\n    <tr>\n      <th>4</th>\n      <td>109832</td>\n      <td>32</td>\n      <td>4.0</td>\n      <td>822873600</td>\n    </tr>\n  </tbody>\n</table>\n</div>"
     },
     "metadata": {},
     "execution_count": 19
    }
   ],
   "source": [
    "ratings_df.head(5)"
   ]
  },
  {
   "cell_type": "code",
   "execution_count": 21,
   "metadata": {},
   "outputs": [
    {
     "output_type": "stream",
     "name": "stdout",
     "text": [
      "<class 'pandas.core.frame.DataFrame'>\nRangeIndex: 24973468 entries, 0 to 24973467\nData columns (total 4 columns):\n #   Column     Dtype  \n---  ------     -----  \n 0   userId     int64  \n 1   movieId    int64  \n 2   rating     float64\n 3   timestamp  int64  \ndtypes: float64(1), int64(3)\nmemory usage: 762.1 MB\n"
     ]
    }
   ],
   "source": [
    "ratings_df.info()"
   ]
  },
  {
   "cell_type": "code",
   "execution_count": null,
   "metadata": {},
   "outputs": [],
   "source": [
    "ratings_df = ratings_df.to_numpy()"
   ]
  },
  {
   "cell_type": "code",
   "execution_count": 29,
   "metadata": {},
   "outputs": [
    {
     "output_type": "execute_result",
     "data": {
      "text/plain": [
       "(24973468, 4)"
      ]
     },
     "metadata": {},
     "execution_count": 29
    }
   ],
   "source": [
    "ratings_df.shape"
   ]
  },
  {
   "cell_type": "code",
   "execution_count": 32,
   "metadata": {},
   "outputs": [],
   "source": [
    "# 676 is a good divisor\n",
    "batch_size = 676\n",
    "ratings_df = ratings_df.reshape(ratings_df.shape[0]//batch_size, batch_size, ratings_df.shape[1])"
   ]
  },
  {
   "cell_type": "code",
   "execution_count": 33,
   "metadata": {},
   "outputs": [
    {
     "output_type": "execute_result",
     "data": {
      "text/plain": [
       "(36943, 676, 4)"
      ]
     },
     "metadata": {},
     "execution_count": 33
    }
   ],
   "source": [
    "ratings_df.shape"
   ]
  },
  {
   "source": [
    "36943, [u1, u2, u3, ...] | u1.shape != u2.shape | u1.shape == [n, 4]\n",
    "\n",
    "36943 == nombre de frames (t = 676) (1 frame == 676 entrées à la suite)\n",
    "Chercher dans les 676 les utilisateurs et séparer par utilisateur (676 va être split parmis les users ayant votés)\n",
    "\n"
   ],
   "cell_type": "markdown",
   "metadata": {}
  },
  {
   "source": [
    "Now we want to create all batches for every single users that we will then feed into the model"
   ],
   "cell_type": "markdown",
   "metadata": {}
  },
  {
   "cell_type": "code",
   "execution_count": 34,
   "metadata": {},
   "outputs": [
    {
     "output_type": "execute_result",
     "data": {
      "text/plain": [
       "array([2.26200000e+03, 2.10000000e+01, 3.00000000e+00, 7.89652009e+08])"
      ]
     },
     "metadata": {},
     "execution_count": 34
    }
   ],
   "source": [
    "ratings_df[0,0,:]"
   ]
  },
  {
   "cell_type": "code",
   "execution_count": null,
   "metadata": {},
   "outputs": [],
   "source": [
    "ratings_df[0,:,0]"
   ]
  },
  {
   "cell_type": "code",
   "execution_count": null,
   "metadata": {},
   "outputs": [],
   "source": [
    "def seperate_drugs():\n",
    "    new_frames = []\n",
    "    for frame in frames:\n",
    "        users_in_frame = []\n",
    "        "
   ]
  },
  {
   "source": [
    "# Model"
   ],
   "cell_type": "markdown",
   "metadata": {}
  },
  {
   "cell_type": "code",
   "execution_count": 4,
   "metadata": {},
   "outputs": [],
   "source": [
    "from utils.convlstmnet import ConvLSTMNet"
   ]
  },
  {
   "cell_type": "code",
   "execution_count": 5,
   "metadata": {},
   "outputs": [],
   "source": [
    "inputs_channels = 3\n",
    "cell = \"convttlstm\"\n",
    "order = 3\n",
    "steps = 3\n",
    "rank = 8\n",
    "kernel_size = 5\n",
    "output_sigmoid = True"
   ]
  },
  {
   "cell_type": "code",
   "execution_count": 6,
   "metadata": {},
   "outputs": [],
   "source": [
    "model = ConvLSTMNet(\n",
    "        # input to the model\n",
    "        input_channels = inputs_channels, \n",
    "        # architecture of the model\n",
    "        layers_per_block = (3, 3, 3, 3), \n",
    "        hidden_channels = (32, 48, 48, 32), \n",
    "        skip_stride = 2,\n",
    "        # parameters of convolutional tensor-train layers\n",
    "        cell = cell, cell_params = {\"order\": order,\n",
    "        \"steps\": steps, \"rank\": rank},\n",
    "        # parameters of convolutional operations\n",
    "        kernel_size = kernel_size, bias = True,\n",
    "        # output function and output format\n",
    "        output_sigmoid = output_sigmoid)"
   ]
  },
  {
   "cell_type": "code",
   "execution_count": null,
   "metadata": {},
   "outputs": [],
   "source": []
  }
 ]
}