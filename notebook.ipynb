{
  "nbformat": 4,
  "nbformat_minor": 0,
  "metadata": {
    "kernelspec": {
      "display_name": "Python 3",
      "language": "python",
      "name": "python3"
    },
    "language_info": {
      "codemirror_mode": {
        "name": "ipython",
        "version": 3
      },
      "file_extension": ".py",
      "mimetype": "text/x-python",
      "name": "python",
      "nbconvert_exporter": "python",
      "pygments_lexer": "ipython3",
      "version": "3.7.6"
    },
    "colab": {
      "name": "notebook.ipynb",
      "provenance": [],
      "toc_visible": true
    }
  },
  "cells": [
    {
      "cell_type": "code",
      "metadata": {
        "id": "0emZR5b2b4KJ",
        "colab": {
          "base_uri": "https://localhost:8080/"
        },
        "outputId": "d0216489-1970-4668-9f14-4a935a62c1fd"
      },
      "source": [
        "RUNNING_IN_COLAB = True\r\n",
        "CALCULATE_NUMPY_ARRAY = False\r\n",
        "\r\n",
        "if RUNNING_IN_COLAB:\r\n",
        "    REPO_URL = 'https://github.com/tomatodelavegas/recommender-system.git'\r\n",
        "    BRANCH   = 'main'\r\n",
        "    REPO_DIR = 'recommender-system'\r\n",
        "    DATA_URL = 'https://drive.google.com/uc?id=1psSrOGsxFrlj0UJH1Gn6Jee4lEVHX69T'\r\n",
        "\r\n",
        "    from pathlib import Path\r\n",
        "\r\n",
        "    %cd /content\r\n",
        "\r\n",
        "    # Download the repository\r\n",
        "    if not Path(REPO_DIR).is_dir():\r\n",
        "        !git clone --branch {BRANCH} --depth=1 -- {REPO_URL} {REPO_DIR}\r\n",
        "    \r\n",
        "    %cd {REPO_DIR}\r\n",
        "\r\n",
        "    # Install requirements\r\n",
        "    !pip install -r requirements.txt | grep -v 'Requirement already satisfied'\r\n",
        "    !pip install gdown | grep -v 'Requirement already satisfied'\r\n",
        "    \r\n",
        "    import gdown\r\n",
        "    if not Path('ml-25m.zip').is_file():\r\n",
        "        gdown.download(DATA_URL, 'ml-25m.zip', quiet=False)\r\n",
        "    \r\n",
        "    if not Path('ml-25m').is_dir():\r\n",
        "        !unzip -q -- ml-25m.zip\r\n",
        "if not CALCULATE_NUMPY_ARRAY:\r\n",
        "  DATA_URL = 'https://drive.google.com/uc?id=1VxL7shrsYPwEQZdvBs7z25WqhJG9juku'\r\n",
        "  if not Path('user_frames_divided.npy').is_file():\r\n",
        "    gdown.download(DATA_URL, 'user_frames_divided.npy', quiet=False)"
      ],
      "execution_count": 211,
      "outputs": [
        {
          "output_type": "stream",
          "text": [
            "/content\n",
            "/content/recommender-system\n"
          ],
          "name": "stdout"
        }
      ]
    },
    {
      "cell_type": "code",
      "metadata": {
        "id": "noBpsWTQb2KA"
      },
      "source": [
        "import torch\n",
        "import torch.nn as nn\n",
        "import torch.nn.functional as F\n",
        "import numpy as np\n",
        "import pandas as pd\n",
        "import tqdm\n",
        "import matplotlib.pyplot as plt\n",
        "from functools import partial\n",
        "from tqdm import tqdm\n",
        "tqdm = partial(tqdm, position=0, leave=True)"
      ],
      "execution_count": 212,
      "outputs": []
    },
    {
      "cell_type": "markdown",
      "metadata": {
        "id": "Ydr7jPvGb2KK"
      },
      "source": [
        "# Data\n",
        "First we load the data"
      ]
    },
    {
      "cell_type": "code",
      "metadata": {
        "id": "P3wE08Pbb2KK"
      },
      "source": [
        "ratings_df = pd.read_csv(\"ml-25m/ratings.csv\")\n",
        "movies_df = pd.read_csv(\"ml-25m/movies.csv\")"
      ],
      "execution_count": 213,
      "outputs": []
    },
    {
      "cell_type": "code",
      "metadata": {
        "id": "ibBlSvn_b2KL",
        "colab": {
          "base_uri": "https://localhost:8080/"
        },
        "outputId": "48b02dac-37d6-48b3-d323-3cc017ad5b4a"
      },
      "source": [
        "ratings_df.info()"
      ],
      "execution_count": 214,
      "outputs": [
        {
          "output_type": "stream",
          "text": [
            "<class 'pandas.core.frame.DataFrame'>\n",
            "RangeIndex: 25000095 entries, 0 to 25000094\n",
            "Data columns (total 4 columns):\n",
            " #   Column     Dtype  \n",
            "---  ------     -----  \n",
            " 0   userId     int64  \n",
            " 1   movieId    int64  \n",
            " 2   rating     float64\n",
            " 3   timestamp  int64  \n",
            "dtypes: float64(1), int64(3)\n",
            "memory usage: 762.9 MB\n"
          ],
          "name": "stdout"
        }
      ]
    },
    {
      "cell_type": "code",
      "metadata": {
        "id": "ZOPgGYnkb2KM",
        "colab": {
          "base_uri": "https://localhost:8080/",
          "height": 355
        },
        "outputId": "1adc98fd-440e-4772-d57a-ea31d9a41793"
      },
      "source": [
        "ratings_df.head(10)"
      ],
      "execution_count": 215,
      "outputs": [
        {
          "output_type": "execute_result",
          "data": {
            "text/html": [
              "<div>\n",
              "<style scoped>\n",
              "    .dataframe tbody tr th:only-of-type {\n",
              "        vertical-align: middle;\n",
              "    }\n",
              "\n",
              "    .dataframe tbody tr th {\n",
              "        vertical-align: top;\n",
              "    }\n",
              "\n",
              "    .dataframe thead th {\n",
              "        text-align: right;\n",
              "    }\n",
              "</style>\n",
              "<table border=\"1\" class=\"dataframe\">\n",
              "  <thead>\n",
              "    <tr style=\"text-align: right;\">\n",
              "      <th></th>\n",
              "      <th>userId</th>\n",
              "      <th>movieId</th>\n",
              "      <th>rating</th>\n",
              "      <th>timestamp</th>\n",
              "    </tr>\n",
              "  </thead>\n",
              "  <tbody>\n",
              "    <tr>\n",
              "      <th>0</th>\n",
              "      <td>1</td>\n",
              "      <td>296</td>\n",
              "      <td>5.0</td>\n",
              "      <td>1147880044</td>\n",
              "    </tr>\n",
              "    <tr>\n",
              "      <th>1</th>\n",
              "      <td>1</td>\n",
              "      <td>306</td>\n",
              "      <td>3.5</td>\n",
              "      <td>1147868817</td>\n",
              "    </tr>\n",
              "    <tr>\n",
              "      <th>2</th>\n",
              "      <td>1</td>\n",
              "      <td>307</td>\n",
              "      <td>5.0</td>\n",
              "      <td>1147868828</td>\n",
              "    </tr>\n",
              "    <tr>\n",
              "      <th>3</th>\n",
              "      <td>1</td>\n",
              "      <td>665</td>\n",
              "      <td>5.0</td>\n",
              "      <td>1147878820</td>\n",
              "    </tr>\n",
              "    <tr>\n",
              "      <th>4</th>\n",
              "      <td>1</td>\n",
              "      <td>899</td>\n",
              "      <td>3.5</td>\n",
              "      <td>1147868510</td>\n",
              "    </tr>\n",
              "    <tr>\n",
              "      <th>5</th>\n",
              "      <td>1</td>\n",
              "      <td>1088</td>\n",
              "      <td>4.0</td>\n",
              "      <td>1147868495</td>\n",
              "    </tr>\n",
              "    <tr>\n",
              "      <th>6</th>\n",
              "      <td>1</td>\n",
              "      <td>1175</td>\n",
              "      <td>3.5</td>\n",
              "      <td>1147868826</td>\n",
              "    </tr>\n",
              "    <tr>\n",
              "      <th>7</th>\n",
              "      <td>1</td>\n",
              "      <td>1217</td>\n",
              "      <td>3.5</td>\n",
              "      <td>1147878326</td>\n",
              "    </tr>\n",
              "    <tr>\n",
              "      <th>8</th>\n",
              "      <td>1</td>\n",
              "      <td>1237</td>\n",
              "      <td>5.0</td>\n",
              "      <td>1147868839</td>\n",
              "    </tr>\n",
              "    <tr>\n",
              "      <th>9</th>\n",
              "      <td>1</td>\n",
              "      <td>1250</td>\n",
              "      <td>4.0</td>\n",
              "      <td>1147868414</td>\n",
              "    </tr>\n",
              "  </tbody>\n",
              "</table>\n",
              "</div>"
            ],
            "text/plain": [
              "   userId  movieId  rating   timestamp\n",
              "0       1      296     5.0  1147880044\n",
              "1       1      306     3.5  1147868817\n",
              "2       1      307     5.0  1147868828\n",
              "3       1      665     5.0  1147878820\n",
              "4       1      899     3.5  1147868510\n",
              "5       1     1088     4.0  1147868495\n",
              "6       1     1175     3.5  1147868826\n",
              "7       1     1217     3.5  1147878326\n",
              "8       1     1237     5.0  1147868839\n",
              "9       1     1250     4.0  1147868414"
            ]
          },
          "metadata": {
            "tags": []
          },
          "execution_count": 215
        }
      ]
    },
    {
      "cell_type": "code",
      "metadata": {
        "id": "5tIxH-_tb2KM",
        "colab": {
          "base_uri": "https://localhost:8080/"
        },
        "outputId": "2072ced9-02e2-4359-f7ae-988bcb27b78a"
      },
      "source": [
        "movies_df.info()"
      ],
      "execution_count": 216,
      "outputs": [
        {
          "output_type": "stream",
          "text": [
            "<class 'pandas.core.frame.DataFrame'>\n",
            "RangeIndex: 62423 entries, 0 to 62422\n",
            "Data columns (total 3 columns):\n",
            " #   Column   Non-Null Count  Dtype \n",
            "---  ------   --------------  ----- \n",
            " 0   movieId  62423 non-null  int64 \n",
            " 1   title    62423 non-null  object\n",
            " 2   genres   62423 non-null  object\n",
            "dtypes: int64(1), object(2)\n",
            "memory usage: 1.4+ MB\n"
          ],
          "name": "stdout"
        }
      ]
    },
    {
      "cell_type": "code",
      "metadata": {
        "colab": {
          "base_uri": "https://localhost:8080/",
          "height": 415
        },
        "id": "R0LXThW_scyP",
        "outputId": "10ea3170-5d31-40d3-a38e-3b07f31ed3a2"
      },
      "source": [
        "movies_df"
      ],
      "execution_count": 217,
      "outputs": [
        {
          "output_type": "execute_result",
          "data": {
            "text/html": [
              "<div>\n",
              "<style scoped>\n",
              "    .dataframe tbody tr th:only-of-type {\n",
              "        vertical-align: middle;\n",
              "    }\n",
              "\n",
              "    .dataframe tbody tr th {\n",
              "        vertical-align: top;\n",
              "    }\n",
              "\n",
              "    .dataframe thead th {\n",
              "        text-align: right;\n",
              "    }\n",
              "</style>\n",
              "<table border=\"1\" class=\"dataframe\">\n",
              "  <thead>\n",
              "    <tr style=\"text-align: right;\">\n",
              "      <th></th>\n",
              "      <th>movieId</th>\n",
              "      <th>title</th>\n",
              "      <th>genres</th>\n",
              "    </tr>\n",
              "  </thead>\n",
              "  <tbody>\n",
              "    <tr>\n",
              "      <th>0</th>\n",
              "      <td>1</td>\n",
              "      <td>Toy Story (1995)</td>\n",
              "      <td>Adventure|Animation|Children|Comedy|Fantasy</td>\n",
              "    </tr>\n",
              "    <tr>\n",
              "      <th>1</th>\n",
              "      <td>2</td>\n",
              "      <td>Jumanji (1995)</td>\n",
              "      <td>Adventure|Children|Fantasy</td>\n",
              "    </tr>\n",
              "    <tr>\n",
              "      <th>2</th>\n",
              "      <td>3</td>\n",
              "      <td>Grumpier Old Men (1995)</td>\n",
              "      <td>Comedy|Romance</td>\n",
              "    </tr>\n",
              "    <tr>\n",
              "      <th>3</th>\n",
              "      <td>4</td>\n",
              "      <td>Waiting to Exhale (1995)</td>\n",
              "      <td>Comedy|Drama|Romance</td>\n",
              "    </tr>\n",
              "    <tr>\n",
              "      <th>4</th>\n",
              "      <td>5</td>\n",
              "      <td>Father of the Bride Part II (1995)</td>\n",
              "      <td>Comedy</td>\n",
              "    </tr>\n",
              "    <tr>\n",
              "      <th>...</th>\n",
              "      <td>...</td>\n",
              "      <td>...</td>\n",
              "      <td>...</td>\n",
              "    </tr>\n",
              "    <tr>\n",
              "      <th>62418</th>\n",
              "      <td>209157</td>\n",
              "      <td>We (2018)</td>\n",
              "      <td>Drama</td>\n",
              "    </tr>\n",
              "    <tr>\n",
              "      <th>62419</th>\n",
              "      <td>209159</td>\n",
              "      <td>Window of the Soul (2001)</td>\n",
              "      <td>Documentary</td>\n",
              "    </tr>\n",
              "    <tr>\n",
              "      <th>62420</th>\n",
              "      <td>209163</td>\n",
              "      <td>Bad Poems (2018)</td>\n",
              "      <td>Comedy|Drama</td>\n",
              "    </tr>\n",
              "    <tr>\n",
              "      <th>62421</th>\n",
              "      <td>209169</td>\n",
              "      <td>A Girl Thing (2001)</td>\n",
              "      <td>(no genres listed)</td>\n",
              "    </tr>\n",
              "    <tr>\n",
              "      <th>62422</th>\n",
              "      <td>209171</td>\n",
              "      <td>Women of Devil's Island (1962)</td>\n",
              "      <td>Action|Adventure|Drama</td>\n",
              "    </tr>\n",
              "  </tbody>\n",
              "</table>\n",
              "<p>62423 rows × 3 columns</p>\n",
              "</div>"
            ],
            "text/plain": [
              "       movieId  ...                                       genres\n",
              "0            1  ...  Adventure|Animation|Children|Comedy|Fantasy\n",
              "1            2  ...                   Adventure|Children|Fantasy\n",
              "2            3  ...                               Comedy|Romance\n",
              "3            4  ...                         Comedy|Drama|Romance\n",
              "4            5  ...                                       Comedy\n",
              "...        ...  ...                                          ...\n",
              "62418   209157  ...                                        Drama\n",
              "62419   209159  ...                                  Documentary\n",
              "62420   209163  ...                                 Comedy|Drama\n",
              "62421   209169  ...                           (no genres listed)\n",
              "62422   209171  ...                       Action|Adventure|Drama\n",
              "\n",
              "[62423 rows x 3 columns]"
            ]
          },
          "metadata": {
            "tags": []
          },
          "execution_count": 217
        }
      ]
    },
    {
      "cell_type": "markdown",
      "metadata": {
        "id": "bLveXhOjb2KN"
      },
      "source": [
        "## Remove Movies without a genre"
      ]
    },
    {
      "cell_type": "code",
      "metadata": {
        "id": "eMzFcXVsb2KN"
      },
      "source": [
        "nogenres_indexes = movies_df.index[movies_df['genres'] == '(no genres listed)'].tolist()\n",
        "movieId_todelete = movies_df.iloc[nogenres_indexes]['movieId'].to_numpy()\n",
        "ratings_df.drop(ratings_df[ratings_df['movieId'].isin(movieId_todelete)].index, inplace=True)\n",
        "ratings_df.reset_index(drop=True, inplace=True)"
      ],
      "execution_count": 218,
      "outputs": []
    },
    {
      "cell_type": "code",
      "metadata": {
        "id": "CvLOd_M4b2KP"
      },
      "source": [
        "#movies_df.drop(index=nogenres_indexes,inplace=True)\n",
        "#movies_df.reset_index(drop=True,inplace=True)"
      ],
      "execution_count": 219,
      "outputs": []
    },
    {
      "cell_type": "code",
      "metadata": {
        "id": "2Y9Wg4Emb2KQ",
        "colab": {
          "base_uri": "https://localhost:8080/"
        },
        "outputId": "86766927-f340-4d6d-dff7-5728b3a21ee9"
      },
      "source": [
        "movies_df.info()"
      ],
      "execution_count": 220,
      "outputs": [
        {
          "output_type": "stream",
          "text": [
            "<class 'pandas.core.frame.DataFrame'>\n",
            "RangeIndex: 62423 entries, 0 to 62422\n",
            "Data columns (total 3 columns):\n",
            " #   Column   Non-Null Count  Dtype \n",
            "---  ------   --------------  ----- \n",
            " 0   movieId  62423 non-null  int64 \n",
            " 1   title    62423 non-null  object\n",
            " 2   genres   62423 non-null  object\n",
            "dtypes: int64(1), object(2)\n",
            "memory usage: 1.4+ MB\n"
          ],
          "name": "stdout"
        }
      ]
    },
    {
      "cell_type": "code",
      "metadata": {
        "id": "jHNP0nLEb2KS"
      },
      "source": [
        ""
      ],
      "execution_count": 220,
      "outputs": []
    },
    {
      "cell_type": "code",
      "metadata": {
        "id": "31kmculSb2KV"
      },
      "source": [
        "p_genres = {}\n",
        "for e in movies_df.itertuples():\n",
        "    genres_in_row = e[-1].split('|')\n",
        "    for genre in genres_in_row:\n",
        "        if genre in p_genres:\n",
        "            p_genres[genre] += 1\n",
        "        else:\n",
        "            p_genres[genre] = 1"
      ],
      "execution_count": 221,
      "outputs": []
    },
    {
      "cell_type": "code",
      "metadata": {
        "id": "0h8I361Sb2KZ",
        "colab": {
          "base_uri": "https://localhost:8080/"
        },
        "outputId": "8d2061af-917f-4758-9202-5bf9ba0099d1"
      },
      "source": [
        "p_genres"
      ],
      "execution_count": 222,
      "outputs": [
        {
          "output_type": "execute_result",
          "data": {
            "text/plain": [
              "{'(no genres listed)': 5062,\n",
              " 'Action': 7348,\n",
              " 'Adventure': 4145,\n",
              " 'Animation': 2929,\n",
              " 'Children': 2935,\n",
              " 'Comedy': 16870,\n",
              " 'Crime': 5319,\n",
              " 'Documentary': 5605,\n",
              " 'Drama': 25606,\n",
              " 'Fantasy': 2731,\n",
              " 'Film-Noir': 353,\n",
              " 'Horror': 5989,\n",
              " 'IMAX': 195,\n",
              " 'Musical': 1054,\n",
              " 'Mystery': 2925,\n",
              " 'Romance': 7719,\n",
              " 'Sci-Fi': 3595,\n",
              " 'Thriller': 8654,\n",
              " 'War': 1874,\n",
              " 'Western': 1399}"
            ]
          },
          "metadata": {
            "tags": []
          },
          "execution_count": 222
        }
      ]
    },
    {
      "cell_type": "code",
      "metadata": {
        "id": "w7TRsvNB6txv"
      },
      "source": [
        "del p_genres['(no genres listed)']"
      ],
      "execution_count": 223,
      "outputs": []
    },
    {
      "cell_type": "code",
      "metadata": {
        "id": "_xDtXMw66x2a"
      },
      "source": [
        "# One hot encoding index mask for future genre encoding\r\n",
        "one_hot_genres = {}\r\n",
        "index_g = 0\r\n",
        "for key,val in p_genres.items():\r\n",
        "  one_hot_genres[key] = index_g\r\n",
        "  index_g += 1"
      ],
      "execution_count": 224,
      "outputs": []
    },
    {
      "cell_type": "code",
      "metadata": {
        "colab": {
          "base_uri": "https://localhost:8080/"
        },
        "id": "HlUliKSk7WLL",
        "outputId": "e0ef487d-6bac-403e-c171-745ea7542212"
      },
      "source": [
        "one_hot_genres"
      ],
      "execution_count": 225,
      "outputs": [
        {
          "output_type": "execute_result",
          "data": {
            "text/plain": [
              "{'Action': 7,\n",
              " 'Adventure': 0,\n",
              " 'Animation': 1,\n",
              " 'Children': 2,\n",
              " 'Comedy': 3,\n",
              " 'Crime': 8,\n",
              " 'Documentary': 14,\n",
              " 'Drama': 6,\n",
              " 'Fantasy': 4,\n",
              " 'Film-Noir': 18,\n",
              " 'Horror': 10,\n",
              " 'IMAX': 13,\n",
              " 'Musical': 16,\n",
              " 'Mystery': 11,\n",
              " 'Romance': 5,\n",
              " 'Sci-Fi': 12,\n",
              " 'Thriller': 9,\n",
              " 'War': 15,\n",
              " 'Western': 17}"
            ]
          },
          "metadata": {
            "tags": []
          },
          "execution_count": 225
        }
      ]
    },
    {
      "cell_type": "code",
      "metadata": {
        "colab": {
          "base_uri": "https://localhost:8080/"
        },
        "id": "5OFzPODR9DOU",
        "outputId": "e15ef3b6-d268-4755-89f8-6544fba6c1ac"
      },
      "source": [
        "movies_df.info()"
      ],
      "execution_count": 226,
      "outputs": [
        {
          "output_type": "stream",
          "text": [
            "<class 'pandas.core.frame.DataFrame'>\n",
            "RangeIndex: 62423 entries, 0 to 62422\n",
            "Data columns (total 3 columns):\n",
            " #   Column   Non-Null Count  Dtype \n",
            "---  ------   --------------  ----- \n",
            " 0   movieId  62423 non-null  int64 \n",
            " 1   title    62423 non-null  object\n",
            " 2   genres   62423 non-null  object\n",
            "dtypes: int64(1), object(2)\n",
            "memory usage: 1.4+ MB\n"
          ],
          "name": "stdout"
        }
      ]
    },
    {
      "cell_type": "code",
      "metadata": {
        "id": "kppN7oUj7k-v"
      },
      "source": [
        "movies_hot_encoded_genres = np.zeros((len(movies_df), len(one_hot_genres)))\r\n",
        "for k in movies_df.itertuples(index=True):\r\n",
        "  if k[3] == '(no genres listed)':\r\n",
        "    continue\r\n",
        "  #0 : index, 1: movieId, 2: title, 3: genres\r\n",
        "  # split genres\r\n",
        "  genres_split = k[3].split('|')\r\n",
        "  for genre in genres_split:\r\n",
        "    movies_hot_encoded_genres[k[0], one_hot_genres[genre]] = 1"
      ],
      "execution_count": 227,
      "outputs": []
    },
    {
      "cell_type": "code",
      "metadata": {
        "colab": {
          "base_uri": "https://localhost:8080/",
          "height": 79
        },
        "id": "6ND5QCm6-UbR",
        "outputId": "c8d11519-67e9-450f-b606-37e2275f93e7"
      },
      "source": [
        "movies_df.head(1)"
      ],
      "execution_count": 228,
      "outputs": [
        {
          "output_type": "execute_result",
          "data": {
            "text/html": [
              "<div>\n",
              "<style scoped>\n",
              "    .dataframe tbody tr th:only-of-type {\n",
              "        vertical-align: middle;\n",
              "    }\n",
              "\n",
              "    .dataframe tbody tr th {\n",
              "        vertical-align: top;\n",
              "    }\n",
              "\n",
              "    .dataframe thead th {\n",
              "        text-align: right;\n",
              "    }\n",
              "</style>\n",
              "<table border=\"1\" class=\"dataframe\">\n",
              "  <thead>\n",
              "    <tr style=\"text-align: right;\">\n",
              "      <th></th>\n",
              "      <th>movieId</th>\n",
              "      <th>title</th>\n",
              "      <th>genres</th>\n",
              "    </tr>\n",
              "  </thead>\n",
              "  <tbody>\n",
              "    <tr>\n",
              "      <th>0</th>\n",
              "      <td>1</td>\n",
              "      <td>Toy Story (1995)</td>\n",
              "      <td>Adventure|Animation|Children|Comedy|Fantasy</td>\n",
              "    </tr>\n",
              "  </tbody>\n",
              "</table>\n",
              "</div>"
            ],
            "text/plain": [
              "   movieId             title                                       genres\n",
              "0        1  Toy Story (1995)  Adventure|Animation|Children|Comedy|Fantasy"
            ]
          },
          "metadata": {
            "tags": []
          },
          "execution_count": 228
        }
      ]
    },
    {
      "cell_type": "code",
      "metadata": {
        "colab": {
          "base_uri": "https://localhost:8080/"
        },
        "id": "_5wXCDb--a4J",
        "outputId": "10e4f46f-5f2f-4d51-962f-1f035bb9691f"
      },
      "source": [
        "movies_hot_encoded_genres[0]"
      ],
      "execution_count": 229,
      "outputs": [
        {
          "output_type": "execute_result",
          "data": {
            "text/plain": [
              "array([1., 1., 1., 1., 1., 0., 0., 0., 0., 0., 0., 0., 0., 0., 0., 0., 0.,\n",
              "       0., 0.])"
            ]
          },
          "metadata": {
            "tags": []
          },
          "execution_count": 229
        }
      ]
    },
    {
      "cell_type": "markdown",
      "metadata": {
        "id": "g66XQw98b2Kf"
      },
      "source": [
        "Nous pouvons observer qu'il existe un imbalance en terme de genres de film avec énormement plus de films de Drama que d'autres."
      ]
    },
    {
      "cell_type": "code",
      "metadata": {
        "id": "VjO61-FQb2Ki",
        "colab": {
          "base_uri": "https://localhost:8080/"
        },
        "outputId": "64407bf0-84a9-43d5-cdba-c92029c27749"
      },
      "source": [
        "user_ids = ratings_df[\"userId\"].unique()\n",
        "nb_user = len(user_ids)\n",
        "nb_user"
      ],
      "execution_count": 230,
      "outputs": [
        {
          "output_type": "execute_result",
          "data": {
            "text/plain": [
              "162541"
            ]
          },
          "metadata": {
            "tags": []
          },
          "execution_count": 230
        }
      ]
    },
    {
      "cell_type": "code",
      "metadata": {
        "id": "mofbUV6eb2Kj",
        "colab": {
          "base_uri": "https://localhost:8080/"
        },
        "outputId": "f6366ba1-e293-4a6b-83b5-9be51accd1a9"
      },
      "source": [
        "import math\n",
        "def divide_ratings():\n",
        "  ratings_by_user_dict = dict(tuple(ratings_df.groupby('userId')))\n",
        "  ratings_by_user = []\n",
        "  for user_id in tqdm(user_ids):\n",
        "      \n",
        "      ratings_of_user = ratings_by_user_dict[user_id]\n",
        "      ratings_of_user.sort_values(by=\"timestamp\", inplace=True, ignore_index=True)\n",
        "      \n",
        "      number_of_ratings = len(ratings_of_user)\n",
        "      ratings_of_user = ratings_of_user.to_numpy()\n",
        "      \n",
        "      # We only keep users with more than 50 ratings\n",
        "      if number_of_ratings >= 50:\n",
        "          \n",
        "          ## We crop to have 25 ratings/frame\n",
        "          if number_of_ratings % 25 != 0:\n",
        "              round_number = number_of_ratings % 25\n",
        "              ratings_of_user = ratings_of_user[:-round_number]\n",
        "              number_of_ratings = ratings_of_user.shape[0]\n",
        "          \n",
        "\n",
        "          dividing_size = number_of_ratings / 25\n",
        "          \n",
        "          user_frames = np.split(ratings_of_user, dividing_size)\n",
        "          \n",
        "          # Remove the user_id of the data and expand dims\n",
        "          ratings_by_user.append(np.expand_dims(np.array(user_frames)[...,1:], axis=-1))\n",
        "\n",
        "  ratings_by_user = np.array(ratings_by_user)\n",
        "  return ratings_by_user\n",
        "\n",
        "ratings_by_user = []\n",
        "if CALCULATE_NUMPY_ARRAY:\n",
        "  ratings_by_user = divide_ratings()\n",
        "else:\n",
        "  ratings_by_user = np.load('user_frames_divided.npy', allow_pickle=True)\n",
        "ratings_by_user.shape"
      ],
      "execution_count": 231,
      "outputs": [
        {
          "output_type": "execute_result",
          "data": {
            "text/plain": [
              "(102460,)"
            ]
          },
          "metadata": {
            "tags": []
          },
          "execution_count": 231
        }
      ]
    },
    {
      "cell_type": "code",
      "metadata": {
        "id": "CKOKmELeb2Kk",
        "colab": {
          "base_uri": "https://localhost:8080/"
        },
        "outputId": "13159b34-8220-43ab-b7dd-3b1d09a3625d"
      },
      "source": [
        "len(ratings_by_user)"
      ],
      "execution_count": 232,
      "outputs": [
        {
          "output_type": "execute_result",
          "data": {
            "text/plain": [
              "102460"
            ]
          },
          "metadata": {
            "tags": []
          },
          "execution_count": 232
        }
      ]
    },
    {
      "cell_type": "code",
      "metadata": {
        "id": "H0WeGtIcb2Kl",
        "colab": {
          "base_uri": "https://localhost:8080/"
        },
        "outputId": "bc254f37-fafd-4279-f575-e03a515e11c2"
      },
      "source": [
        "ratings_by_user[0].shape"
      ],
      "execution_count": 233,
      "outputs": [
        {
          "output_type": "execute_result",
          "data": {
            "text/plain": [
              "(2, 25, 3, 1)"
            ]
          },
          "metadata": {
            "tags": []
          },
          "execution_count": 233
        }
      ]
    },
    {
      "cell_type": "code",
      "metadata": {
        "id": "e12GI0TIb2Kl",
        "colab": {
          "base_uri": "https://localhost:8080/"
        },
        "outputId": "48d09f94-3956-4010-dacf-79246aa696a1"
      },
      "source": [
        "ratings_by_user[1].shape"
      ],
      "execution_count": 234,
      "outputs": [
        {
          "output_type": "execute_result",
          "data": {
            "text/plain": [
              "(7, 25, 3, 1)"
            ]
          },
          "metadata": {
            "tags": []
          },
          "execution_count": 234
        }
      ]
    },
    {
      "cell_type": "code",
      "metadata": {
        "colab": {
          "base_uri": "https://localhost:8080/"
        },
        "id": "Cb1TmKoDmNTn",
        "outputId": "dba25763-6fcb-4875-c469-4ce8e6e2185d"
      },
      "source": [
        "ratings_by_user[0][0,0,:,0]"
      ],
      "execution_count": 235,
      "outputs": [
        {
          "output_type": "execute_result",
          "data": {
            "text/plain": [
              "array([5.95200000e+03, 4.00000000e+00, 1.14786805e+09])"
            ]
          },
          "metadata": {
            "tags": []
          },
          "execution_count": 235
        }
      ]
    },
    {
      "cell_type": "markdown",
      "metadata": {
        "id": "IXfbXfwX_dsg"
      },
      "source": [
        "Add the genres encoded channels on the width."
      ]
    },
    {
      "cell_type": "code",
      "metadata": {
        "id": "eo9Ry1_kb2Km"
      },
      "source": [
        "in_height= ratings_by_user[0].shape[1]\n",
        "in_width= ratings_by_user[0].shape[2] + len(one_hot_genres)"
      ],
      "execution_count": 236,
      "outputs": []
    },
    {
      "cell_type": "code",
      "metadata": {
        "id": "4y39b6iBb2Km"
      },
      "source": [
        "if CALCULATE_NUMPY_ARRAY:\r\n",
        "  np.save(\"user_frames_divided.npy\", ratings_by_user)"
      ],
      "execution_count": 237,
      "outputs": []
    },
    {
      "cell_type": "code",
      "metadata": {
        "id": "LWHiI2GLb2Km",
        "colab": {
          "base_uri": "https://localhost:8080/"
        },
        "outputId": "5874d2f3-4987-4bc4-f967-006f8d27e823"
      },
      "source": [
        "column_movieId = movies_df[\"movieId\"]\n",
        "print(\"Max ID of movie: \", column_movieId.max())\n",
        "id_list = column_movieId.to_numpy()\n",
        "\n",
        "id_dictionnary = sorted(set(id_list))\n",
        "\n",
        "id_to_index =  {u:i for i, u in enumerate(id_dictionnary)}\n",
        "index_to_id = list(id_dictionnary)"
      ],
      "execution_count": 238,
      "outputs": [
        {
          "output_type": "stream",
          "text": [
            "Max ID of movie:  209171\n"
          ],
          "name": "stdout"
        }
      ]
    },
    {
      "cell_type": "markdown",
      "metadata": {
        "id": "jE6JJYE4b2Kn"
      },
      "source": [
        "# Model\n",
        "Convolutional Tensor-Train LSTM Recommendation Net  \n",
        "The model was inspired by Covolutional Click Prediction Model (CCPM)  \n",
        " We want to vase our recommendation on previous recommendation we made. We want to add the sequential information  \n",
        "Therefore, we replace the second convolution by a Convolutional Tensor Train LSTM"
      ]
    },
    {
      "cell_type": "code",
      "metadata": {
        "id": "BD28NDweb2Kn"
      },
      "source": [
        "from utils.convlstmnet import ConvLSTMNet\n",
        "from torch.nn import Conv2d, AdaptiveMaxPool2d, Linear, Tanh, ReLU, MaxPool2d, Flatten"
      ],
      "execution_count": 239,
      "outputs": []
    },
    {
      "cell_type": "markdown",
      "metadata": {
        "id": "h0I5F22Fb2Kn"
      },
      "source": [
        "Hyperparameters for the CTLRN"
      ]
    },
    {
      "cell_type": "code",
      "metadata": {
        "id": "xubA-Ki5b2Kn"
      },
      "source": [
        "output_size=len(movies_df) # Number of movies\n",
        "inputs_channels=1# To define ==> 2\n",
        "lstm_input_channels=3\n",
        "cell = \"convttlstm\"\n",
        "order = 3\n",
        "steps = 3\n",
        "rank = 8\n",
        "kernel_size = 5\n",
        "lr=1e-3\n",
        "output_sigmoid = True"
      ],
      "execution_count": 240,
      "outputs": []
    },
    {
      "cell_type": "code",
      "metadata": {
        "id": "6hjXP57Eb2Ko"
      },
      "source": [
        "padding_size_w=in_height//2\n",
        "padding_size_h=in_width//2"
      ],
      "execution_count": 241,
      "outputs": []
    },
    {
      "cell_type": "code",
      "metadata": {
        "id": "fe-OBcQ8b2Ko"
      },
      "source": [
        "ctln_model = ConvLSTMNet(\n",
        "        # input to the model\n",
        "        input_channels = lstm_input_channels, \n",
        "        # architecture of the model\n",
        "        layers_per_block = (3, 3, 3, 3), \n",
        "        hidden_channels = (32, 48, 48, 32), \n",
        "        skip_stride = 2,\n",
        "        # parameters of convolutional tensor-train layers\n",
        "        cell = cell, cell_params = {\"order\": order,\n",
        "        \"steps\": steps, \"rank\": rank},\n",
        "        # parameters of convolutional operations\n",
        "        kernel_size = kernel_size, bias = True,\n",
        "        # output function and output format\n",
        "        output_sigmoid = output_sigmoid)"
      ],
      "execution_count": 242,
      "outputs": []
    },
    {
      "cell_type": "code",
      "metadata": {
        "id": "uNxmIMqlb2Ko"
      },
      "source": [
        "class CTLRNet(nn.Module):\n",
        "    def __init__(self, inputs_channels, output_size):\n",
        "        super(CTLRNet, self).__init__()\n",
        "        \n",
        "        self.inputs_channels = inputs_channels\n",
        "        self.output_size = output_size\n",
        "        \n",
        "        self.conv1 = Conv2d(in_channels=inputs_channels, out_channels=lstm_input_channels,\n",
        "                       padding=(padding_size_h,padding_size_h), kernel_size=(3,3))\n",
        "        self.pool1 = AdaptiveMaxPool2d(output_size=(in_height, in_width))\n",
        "        self.tanh = Tanh()\n",
        "        self.convttlstm = ctln_model # Espace latent \n",
        "        self.pool2 = MaxPool2d(2) # Padding ?\n",
        "        self.flatten = Flatten()\n",
        "        self.linear = Linear(in_features=396, out_features=output_size) # 62000\n",
        "        self.relu = ReLU()\n",
        "    \n",
        "    def forward(self, inputs):\n",
        "        x = self.conv1(inputs)\n",
        "        x = self.pool1(x)\n",
        "        x = self.tanh(x)\n",
        "        \n",
        "        ## To study exactly\n",
        "        ## uwu ?\n",
        "        x = torch.unsqueeze(x, dim=0)\n",
        "        x = self.convttlstm(x, input_frames = inputs.shape[1], future_frames = 1, output_frames = 1)\n",
        "        x = torch.squeeze(x, dim=0)\n",
        "        \n",
        "        x = self.pool2(x)\n",
        "        x = self.flatten(x)\n",
        "        x = self.linear(x)\n",
        "        y = self.relu(x)\n",
        "        return y\n",
        "        "
      ],
      "execution_count": 243,
      "outputs": []
    },
    {
      "cell_type": "code",
      "metadata": {
        "id": "00gJem_fb2Kp"
      },
      "source": [
        "model = CTLRNet(inputs_channels, output_size)"
      ],
      "execution_count": 244,
      "outputs": []
    },
    {
      "cell_type": "code",
      "metadata": {
        "id": "96MwYHPY_973"
      },
      "source": [
        "quick_test_data = ratings_by_user[0]"
      ],
      "execution_count": 245,
      "outputs": []
    },
    {
      "cell_type": "code",
      "metadata": {
        "id": "au0xaFPDDZlM"
      },
      "source": [
        "def add_movies_hot_encoding(data):\r\n",
        "  new_data = [ \r\n",
        "              [ \r\n",
        "               movies_hot_encoded_genres[id_to_index[rating[0,0]]] \r\n",
        "              for rating in frame ] \r\n",
        "             for frame in data ]\r\n",
        "  return np.concatenate((data, np.expand_dims(np.array(new_data),axis=-1)), axis=2)"
      ],
      "execution_count": 267,
      "outputs": []
    },
    {
      "cell_type": "code",
      "metadata": {
        "id": "qK5QqqHyK3Eu"
      },
      "source": [
        "quick_test_data_c = add_movies_hot_encoding(quick_test_data)"
      ],
      "execution_count": 247,
      "outputs": []
    },
    {
      "cell_type": "code",
      "metadata": {
        "id": "TXnOvMVAMGch"
      },
      "source": [
        "quick_test_data_c = torch.from_numpy(quick_test_data_c).permute([0,3,1,2])"
      ],
      "execution_count": 248,
      "outputs": []
    },
    {
      "cell_type": "code",
      "metadata": {
        "id": "griti-yyb2Kp",
        "colab": {
          "base_uri": "https://localhost:8080/"
        },
        "outputId": "c2d22989-17d0-43d4-f861-544f8b56fb30"
      },
      "source": [
        "quick_test_data_c.shape"
      ],
      "execution_count": 249,
      "outputs": [
        {
          "output_type": "execute_result",
          "data": {
            "text/plain": [
              "torch.Size([2, 1, 25, 22])"
            ]
          },
          "metadata": {
            "tags": []
          },
          "execution_count": 249
        }
      ]
    },
    {
      "cell_type": "code",
      "metadata": {
        "id": "s2KGqFvDb2Kp"
      },
      "source": [
        "r = model(quick_test_data_c.float())"
      ],
      "execution_count": 250,
      "outputs": []
    },
    {
      "cell_type": "code",
      "metadata": {
        "colab": {
          "base_uri": "https://localhost:8080/"
        },
        "id": "vaXIQAGwokzO",
        "outputId": "389abfcd-e571-4149-ae8e-52abc5c75b60"
      },
      "source": [
        "r, r.shape"
      ],
      "execution_count": 251,
      "outputs": [
        {
          "output_type": "execute_result",
          "data": {
            "text/plain": [
              "(tensor([[0.0000, 0.0000, 0.4425,  ..., 0.0000, 0.1914, 0.0000]],\n",
              "        grad_fn=<ReluBackward0>), torch.Size([1, 62423]))"
            ]
          },
          "metadata": {
            "tags": []
          },
          "execution_count": 251
        }
      ]
    },
    {
      "cell_type": "code",
      "metadata": {
        "id": "-McfPU3cMj-x",
        "colab": {
          "base_uri": "https://localhost:8080/"
        },
        "outputId": "eeb44b96-7524-4ee5-b56c-04dbb996b4ba"
      },
      "source": [
        "quick_test_data_c[0,0,0]"
      ],
      "execution_count": 252,
      "outputs": [
        {
          "output_type": "execute_result",
          "data": {
            "text/plain": [
              "tensor([5.9520e+03, 4.0000e+00, 1.1479e+09, 1.0000e+00, 0.0000e+00, 0.0000e+00,\n",
              "        0.0000e+00, 1.0000e+00, 0.0000e+00, 0.0000e+00, 0.0000e+00, 0.0000e+00,\n",
              "        0.0000e+00, 0.0000e+00, 0.0000e+00, 0.0000e+00, 0.0000e+00, 0.0000e+00,\n",
              "        0.0000e+00, 0.0000e+00, 0.0000e+00, 0.0000e+00], dtype=torch.float64)"
            ]
          },
          "metadata": {
            "tags": []
          },
          "execution_count": 252
        }
      ]
    },
    {
      "cell_type": "markdown",
      "metadata": {
        "id": "vMlwCsapb2Kq"
      },
      "source": [
        "# Data Split"
      ]
    },
    {
      "cell_type": "markdown",
      "metadata": {
        "id": "znb2j5tk-yfF"
      },
      "source": [
        "To avoid overwhelming the RAM we will only had the one hot encoded genres information at runtime."
      ]
    },
    {
      "cell_type": "code",
      "metadata": {
        "id": "rPXn1CPzb2Kq"
      },
      "source": [
        "np.random.shuffle(ratings_by_user)\n",
        "\n",
        "data_samples = ratings_by_user.shape[0]\n",
        "\n",
        "train_size = math.ceil(data_samples * 0.70)\n",
        "test_size = data_samples - train_size\n",
        "\n",
        "train_data = ratings_by_user[:train_size][:5000]\n",
        "test_data = ratings_by_user[train_size:][:1000]"
      ],
      "execution_count": 253,
      "outputs": []
    },
    {
      "cell_type": "code",
      "metadata": {
        "colab": {
          "base_uri": "https://localhost:8080/"
        },
        "id": "oKjzV2Hhu5pd",
        "outputId": "e446b4e8-caf2-4d82-832f-f5b7abc55083"
      },
      "source": [
        "len(train_data),len(test_data)"
      ],
      "execution_count": 254,
      "outputs": [
        {
          "output_type": "execute_result",
          "data": {
            "text/plain": [
              "(5000, 1000)"
            ]
          },
          "metadata": {
            "tags": []
          },
          "execution_count": 254
        }
      ]
    },
    {
      "cell_type": "code",
      "metadata": {
        "id": "9tlhEVZyb2Kq"
      },
      "source": [
        "def split_x_y(data, p=0.25):\n",
        "    \"\"\"\n",
        "    Split and construct a frame into an input and an output\n",
        "    parameters data: (nb_frames, c, h, w0)\n",
        "    return: (nb_frames, c, h, w0), (nb_movies)\n",
        "    \"\"\"\n",
        "    data_frames = data.shape[0]\n",
        "    X_size = math.floor(data_frames * (1-p))\n",
        "    Y_data_size = data_frames - X_size\n",
        "    \n",
        "    \n",
        "    X = data[:X_size]\n",
        "    Y_data = data[Y_data_size:]\n",
        "    \n",
        "    y = np.zeros(output_size)\n",
        "    \n",
        "    #print()\n",
        "    \n",
        "    #y[Y_data[...,1]] = Y_data[...,2]\n",
        "    # Make sure!\n",
        "    # row[0] = movieId\n",
        "    # row[1] = rating\n",
        "    #print(Y_data)\n",
        "    for frame in Y_data:\n",
        "        for row in frame[0]:\n",
        "            y[id_to_index[int(row[0])]] = row[1]\n",
        "    \n",
        "    return X, torch.from_numpy(y.reshape(1,-1)).double()\n",
        "            "
      ],
      "execution_count": 255,
      "outputs": []
    },
    {
      "cell_type": "code",
      "metadata": {
        "id": "WAH8aYv2qRj1"
      },
      "source": [
        "x_test, y_test = split_x_y(quick_test_data_c)"
      ],
      "execution_count": 256,
      "outputs": []
    },
    {
      "cell_type": "code",
      "metadata": {
        "colab": {
          "base_uri": "https://localhost:8080/"
        },
        "id": "fv8-gzp0qbKr",
        "outputId": "5461d050-4453-43eb-a17f-9186cba0238f"
      },
      "source": [
        "x_test.shape"
      ],
      "execution_count": 257,
      "outputs": [
        {
          "output_type": "execute_result",
          "data": {
            "text/plain": [
              "torch.Size([1, 1, 25, 22])"
            ]
          },
          "metadata": {
            "tags": []
          },
          "execution_count": 257
        }
      ]
    },
    {
      "cell_type": "code",
      "metadata": {
        "colab": {
          "base_uri": "https://localhost:8080/"
        },
        "id": "Q5A13jRiqcvM",
        "outputId": "db40a69b-2bba-4c90-b29f-f8cba219921a"
      },
      "source": [
        "y_test.shape"
      ],
      "execution_count": 258,
      "outputs": [
        {
          "output_type": "execute_result",
          "data": {
            "text/plain": [
              "torch.Size([1, 62423])"
            ]
          },
          "metadata": {
            "tags": []
          },
          "execution_count": 258
        }
      ]
    },
    {
      "cell_type": "markdown",
      "metadata": {
        "id": "KAM-nfaSwjFj"
      },
      "source": [
        "# Training"
      ]
    },
    {
      "cell_type": "code",
      "metadata": {
        "id": "vSVIvSPwb2Ks"
      },
      "source": [
        "import torch.nn.functional as F\n",
        "\n",
        "def compute_loss(y_pred, y_true):\n",
        "    return F.l1_loss(y_pred, y_true, reduction = \"mean\") + F.mse_loss(y_pred, y_true, reduction = \"mean\")\n",
        "\n",
        "optimizer = torch.optim.Adam(model.parameters(), lr = lr)"
      ],
      "execution_count": 259,
      "outputs": []
    },
    {
      "cell_type": "code",
      "metadata": {
        "id": "Nf3RgzV5f9-V"
      },
      "source": [
        "# whether to use GPU (or CPU) \r\n",
        "use_cuda  = torch.cuda.is_available()\r\n",
        "device = torch.device(\"cuda\" if use_cuda else \"cpu\")\r\n",
        "\r\n",
        "# whether to use multi-GPU (or single-GPU)\r\n",
        "multi_gpu = use_cuda and torch.cuda.device_count() > 1\r\n",
        "num_gpus = (torch.cuda.device_count() if multi_gpu else 1) if use_cuda else 0\r\n",
        "# move the model to the device (CPU, GPU, multi-GPU) \r\n",
        "model.to(device)\r\n",
        "if multi_gpu: \r\n",
        "    model = nn.DataParallel(model)"
      ],
      "execution_count": null,
      "outputs": []
    },
    {
      "cell_type": "code",
      "metadata": {
        "id": "C-c1SK7zb2Ks",
        "colab": {
          "base_uri": "https://localhost:8080/"
        },
        "outputId": "e13d0dbf-db52-47c4-b702-a009bf5476d5"
      },
      "source": [
        "# Training loop\n",
        "num_epochs = 5\n",
        "\n",
        "loss = 0\n",
        "history = []\n",
        "for epoch in range(0, num_epochs):\n",
        "    loop = tqdm(enumerate(train_data), total = len(train_data))\n",
        "    running_loss = 0.0\n",
        "    model.train()\n",
        "    for batch_idx, frames in loop:\n",
        "      frames = add_movies_hot_encoding(frames)\n",
        "      frames = torch.from_numpy(frames).permute([0,3,1,2]).to(device)\n",
        "      X, y = split_x_y(frames)\n",
        "      \n",
        "      optimizer.zero_grad()\n",
        "      \n",
        "      pred = model(X.float()).double().to(device)\n",
        "      y = y.to(device)\n",
        "      loss = compute_loss(pred, y)\n",
        "      loss.backward()\n",
        "      optimizer.step()\n",
        "\n",
        "      loop.set_description(f\"Epoch [{epoch + 1}/{num_epochs}]\")\n",
        "      loop.set_postfix(loss= loss.item())\n",
        "      running_loss += loss.item()\n",
        "    history.append(running_loss/len(train_data))\n",
        "\n",
        "torch.save(model.state_dict(), \"checkpoint.pt\")"
      ],
      "execution_count": null,
      "outputs": [
        {
          "output_type": "stream",
          "text": [
            "Epoch [0/5]: 100%|██████████| 5000/5000 [04:44<00:00, 17.57it/s, loss=0.00244]\n",
            "Epoch [1/5]: 100%|██████████| 5000/5000 [04:40<00:00, 17.84it/s, loss=0.00244]\n",
            "Epoch [2/5]: 100%|██████████| 5000/5000 [04:35<00:00, 18.18it/s, loss=0.00244]\n",
            "Epoch [3/5]: 100%|██████████| 5000/5000 [04:33<00:00, 18.26it/s, loss=0.00225]\n",
            "Epoch [4/5]: 100%|██████████| 5000/5000 [04:33<00:00, 18.30it/s, loss=0.00225]\n"
          ],
          "name": "stderr"
        }
      ]
    },
    {
      "cell_type": "code",
      "metadata": {
        "id": "F2I3teeDfEzx",
        "colab": {
          "base_uri": "https://localhost:8080/"
        },
        "outputId": "73959a11-cc55-4d40-e28f-50b46d978d84"
      },
      "source": [
        "history"
      ],
      "execution_count": null,
      "outputs": [
        {
          "output_type": "execute_result",
          "data": {
            "text/plain": [
              "[0.002437077914489326,\n",
              " 0.002437034469118258,\n",
              " 0.0024369955579627675,\n",
              " 0.0022565375009111137,\n",
              " 0.00224565606587937]"
            ]
          },
          "metadata": {
            "tags": []
          },
          "execution_count": 64
        }
      ]
    },
    {
      "cell_type": "code",
      "metadata": {
        "id": "Vy6Rw2qLe7Ne",
        "colab": {
          "base_uri": "https://localhost:8080/",
          "height": 283
        },
        "outputId": "8df80407-0e97-451f-a895-53c65ab837c7"
      },
      "source": [
        "plt.plot(history)"
      ],
      "execution_count": null,
      "outputs": [
        {
          "output_type": "execute_result",
          "data": {
            "text/plain": [
              "[<matplotlib.lines.Line2D at 0x7faf8dd51f28>]"
            ]
          },
          "metadata": {
            "tags": []
          },
          "execution_count": 65
        },
        {
          "output_type": "display_data",
          "data": {
            "image/png": "[encoded data removed]",
            "text/plain": [
              "<Figure size 432x288 with 1 Axes>"
            ]
          },
          "metadata": {
            "tags": [],
            "needs_background": "light"
          }
        }
      ]
    },
    {
      "cell_type": "markdown",
      "metadata": {
        "id": "jbJgdsOJwsbG"
      },
      "source": [
        "# Recommender\r\n",
        "\r\n"
      ]
    },
    {
      "cell_type": "markdown",
      "metadata": {
        "id": "yAHt1zsQ2tqI"
      },
      "source": [
        "We firstly add the hot encoding in order to call the model"
      ]
    },
    {
      "cell_type": "code",
      "metadata": {
        "id": "zdWP5oLzuFlR"
      },
      "source": [
        "test_rec0 = add_movies_hot_encoding(test_data[0])"
      ],
      "execution_count": 268,
      "outputs": []
    },
    {
      "cell_type": "code",
      "metadata": {
        "id": "nG3G8kltuejS",
        "outputId": "c0725ef3-e938-43c8-c9ca-1599508457bd",
        "colab": {
          "base_uri": "https://localhost:8080/"
        }
      },
      "source": [
        "test_data[0].shape"
      ],
      "execution_count": 269,
      "outputs": [
        {
          "output_type": "execute_result",
          "data": {
            "text/plain": [
              "(27, 25, 3, 1)"
            ]
          },
          "metadata": {
            "tags": []
          },
          "execution_count": 269
        }
      ]
    },
    {
      "cell_type": "code",
      "metadata": {
        "id": "JQu4r4DHuU5T",
        "outputId": "0d275131-6fd9-44bc-c13f-a7a530613663",
        "colab": {
          "base_uri": "https://localhost:8080/"
        }
      },
      "source": [
        "test_rec0.shape"
      ],
      "execution_count": 270,
      "outputs": [
        {
          "output_type": "execute_result",
          "data": {
            "text/plain": [
              "(27, 25, 22, 1)"
            ]
          },
          "metadata": {
            "tags": []
          },
          "execution_count": 270
        }
      ]
    },
    {
      "cell_type": "code",
      "metadata": {
        "id": "k40aG3i8vgxo"
      },
      "source": [
        "test_rec0 = torch.from_numpy(test_rec0).permute([0,3,1,2])"
      ],
      "execution_count": 272,
      "outputs": []
    },
    {
      "cell_type": "code",
      "metadata": {
        "id": "zr0140wLvVOo"
      },
      "source": [
        "ratings_test_rec0 = model(test_rec0.float())"
      ],
      "execution_count": 274,
      "outputs": []
    },
    {
      "cell_type": "code",
      "metadata": {
        "id": "qDWikZjdvn0B"
      },
      "source": [
        "ratings_test_rec0 = ratings_test_rec0.detach().numpy()"
      ],
      "execution_count": 279,
      "outputs": []
    },
    {
      "cell_type": "code",
      "metadata": {
        "id": "oML-14ESv67p"
      },
      "source": [
        "ratings_test_rec0 = np.ndarray.flatten(ratings_test_rec0)"
      ],
      "execution_count": 288,
      "outputs": []
    },
    {
      "cell_type": "markdown",
      "metadata": {
        "id": "Oi7BsSEt2y_M"
      },
      "source": [
        "Once the ratings for all the movies found for this particular user, we need to compute which movies were the highest ranked."
      ]
    },
    {
      "cell_type": "code",
      "metadata": {
        "id": "oVOqwScywmNx"
      },
      "source": [
        "def top_recommended(ratings, top_n):\r\n",
        "  ratings = np.ndarray.flatten(ratings)\r\n",
        "  top_indexes = np.argpartition(ratings, -top_n)[-top_n:]\r\n",
        "  top_indexes = top_indexes[np.argsort(ratings[top_indexes])]\r\n",
        "  return np.flip(top_indexes)"
      ],
      "execution_count": 310,
      "outputs": []
    },
    {
      "cell_type": "code",
      "metadata": {
        "id": "-8CRAOP2zqcp"
      },
      "source": [
        "top_recommended_indexes = top_recommended(ratings_test_rec0, 10)"
      ],
      "execution_count": 311,
      "outputs": []
    },
    {
      "cell_type": "code",
      "metadata": {
        "id": "qm9XAxlkz7SI",
        "outputId": "e120eb22-d120-4db2-d1b3-b2282bd66c60",
        "colab": {
          "base_uri": "https://localhost:8080/"
        }
      },
      "source": [
        "top_recommended_indexes"
      ],
      "execution_count": 312,
      "outputs": [
        {
          "output_type": "execute_result",
          "data": {
            "text/plain": [
              "array([52265, 11177,  5664, 57302, 36814, 52066, 47973, 19933, 61427,\n",
              "       21195])"
            ]
          },
          "metadata": {
            "tags": []
          },
          "execution_count": 312
        }
      ]
    },
    {
      "cell_type": "code",
      "metadata": {
        "id": "DobvsLmjz9QQ",
        "outputId": "52d48a31-4238-4803-f960-c2e5cddd5eea",
        "colab": {
          "base_uri": "https://localhost:8080/"
        }
      },
      "source": [
        "ratings_test_rec0[top_recommended_indexes]"
      ],
      "execution_count": 313,
      "outputs": [
        {
          "output_type": "execute_result",
          "data": {
            "text/plain": [
              "array([1.3220191, 1.3203067, 1.2383199, 1.2281711, 1.1810901, 1.1534708,\n",
              "       1.12097  , 1.086874 , 1.0717183, 1.0461099], dtype=float32)"
            ]
          },
          "metadata": {
            "tags": []
          },
          "execution_count": 313
        }
      ]
    },
    {
      "cell_type": "markdown",
      "metadata": {
        "id": "l_GYk9td3G5w"
      },
      "source": [
        "What remains is now to display the top movies recommended in the descending order"
      ]
    },
    {
      "cell_type": "code",
      "metadata": {
        "id": "8MNBWygB0MI_",
        "outputId": "040d4195-1964-45c8-9420-42d578a213a0",
        "colab": {
          "base_uri": "https://localhost:8080/",
          "height": 355
        }
      },
      "source": [
        "movies_df.iloc[top_recommended_indexes]"
      ],
      "execution_count": 314,
      "outputs": [
        {
          "output_type": "execute_result",
          "data": {
            "text/html": [
              "<div>\n",
              "<style scoped>\n",
              "    .dataframe tbody tr th:only-of-type {\n",
              "        vertical-align: middle;\n",
              "    }\n",
              "\n",
              "    .dataframe tbody tr th {\n",
              "        vertical-align: top;\n",
              "    }\n",
              "\n",
              "    .dataframe thead th {\n",
              "        text-align: right;\n",
              "    }\n",
              "</style>\n",
              "<table border=\"1\" class=\"dataframe\">\n",
              "  <thead>\n",
              "    <tr style=\"text-align: right;\">\n",
              "      <th></th>\n",
              "      <th>movieId</th>\n",
              "      <th>title</th>\n",
              "      <th>genres</th>\n",
              "    </tr>\n",
              "  </thead>\n",
              "  <tbody>\n",
              "    <tr>\n",
              "      <th>52265</th>\n",
              "      <td>184915</td>\n",
              "      <td>Daredevils of the Red Circle (1939)</td>\n",
              "      <td>Action|Crime</td>\n",
              "    </tr>\n",
              "    <tr>\n",
              "      <th>11177</th>\n",
              "      <td>48899</td>\n",
              "      <td>Man of Straw (Untertan, Der) (1951)</td>\n",
              "      <td>Comedy|Drama</td>\n",
              "    </tr>\n",
              "    <tr>\n",
              "      <th>5664</th>\n",
              "      <td>5776</td>\n",
              "      <td>Only When I Laugh (1981)</td>\n",
              "      <td>Comedy|Drama</td>\n",
              "    </tr>\n",
              "    <tr>\n",
              "      <th>57302</th>\n",
              "      <td>196063</td>\n",
              "      <td>The Indecent Family</td>\n",
              "      <td>(no genres listed)</td>\n",
              "    </tr>\n",
              "    <tr>\n",
              "      <th>36814</th>\n",
              "      <td>151210</td>\n",
              "      <td>Graveyard Shift (1987)</td>\n",
              "      <td>Horror</td>\n",
              "    </tr>\n",
              "    <tr>\n",
              "      <th>52066</th>\n",
              "      <td>184501</td>\n",
              "      <td>Samson (2018)</td>\n",
              "      <td>Action|Drama</td>\n",
              "    </tr>\n",
              "    <tr>\n",
              "      <th>47973</th>\n",
              "      <td>175705</td>\n",
              "      <td>Themroc (1973)</td>\n",
              "      <td>Comedy|Horror</td>\n",
              "    </tr>\n",
              "    <tr>\n",
              "      <th>19933</th>\n",
              "      <td>103420</td>\n",
              "      <td>Life Without Dick (2002)</td>\n",
              "      <td>Comedy|Crime|Romance</td>\n",
              "    </tr>\n",
              "    <tr>\n",
              "      <th>61427</th>\n",
              "      <td>205871</td>\n",
              "      <td>Young Americans (1967)</td>\n",
              "      <td>(no genres listed)</td>\n",
              "    </tr>\n",
              "    <tr>\n",
              "      <th>21195</th>\n",
              "      <td>109479</td>\n",
              "      <td>Satan's Sword 3: The Final Chapter (Daibosatsu...</td>\n",
              "      <td>Action|Drama</td>\n",
              "    </tr>\n",
              "  </tbody>\n",
              "</table>\n",
              "</div>"
            ],
            "text/plain": [
              "       movieId  ...                genres\n",
              "52265   184915  ...          Action|Crime\n",
              "11177    48899  ...          Comedy|Drama\n",
              "5664      5776  ...          Comedy|Drama\n",
              "57302   196063  ...    (no genres listed)\n",
              "36814   151210  ...                Horror\n",
              "52066   184501  ...          Action|Drama\n",
              "47973   175705  ...         Comedy|Horror\n",
              "19933   103420  ...  Comedy|Crime|Romance\n",
              "61427   205871  ...    (no genres listed)\n",
              "21195   109479  ...          Action|Drama\n",
              "\n",
              "[10 rows x 3 columns]"
            ]
          },
          "metadata": {
            "tags": []
          },
          "execution_count": 314
        }
      ]
    }
  ]
}